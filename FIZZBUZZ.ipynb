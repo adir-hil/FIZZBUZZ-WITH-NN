{
 "cells": [
  {
   "cell_type": "markdown",
   "metadata": {
    "id": "2YZZypE0a2PV"
   },
   "source": [
    "# **Submitted by:**<br>\n",
    "**- Adir Hilvert **<br>\n",
    "**- Ogen Drukerman **"
   ]
  },
  {
   "cell_type": "markdown",
   "metadata": {
    "id": "NZy8yoniGmfX"
   },
   "source": [
    "# **Questions 1-3:** "
   ]
  },
  {
   "cell_type": "markdown",
   "metadata": {
    "id": "ailcWgHn8Fvs"
   },
   "source": [
    "#### **Imports**"
   ]
  },
  {
   "cell_type": "code",
   "execution_count": 30,
   "metadata": {
    "colab": {
     "base_uri": "https://localhost:8080/"
    },
    "id": "U_OluhmPYHGS",
    "outputId": "96c6dcd9-35d3-4f77-d00f-994907f41748"
   },
   "outputs": [
    {
     "name": "stdout",
     "output_type": "stream",
     "text": [
      "1.15.2\n"
     ]
    }
   ],
   "source": [
    "%tensorflow_version 1.x\n",
    "import tensorflow as tf\n",
    "from tensorflow.python.util import deprecation\n",
    "deprecation._PRINT_DEPRECATION_WARNINGS = False\n",
    "import numpy as np\n",
    "from math import sqrt\n",
    "from sklearn.metrics import accuracy_score, plot_confusion_matrix\n",
    "import matplotlib.pyplot as plt\n",
    "import sympy as sp\n",
    "import math\n",
    "print(tf.__version__)"
   ]
  },
  {
   "cell_type": "markdown",
   "metadata": {
    "id": "CPT47CZVGu_6"
   },
   "source": [
    "#### **Model definition**"
   ]
  },
  {
   "cell_type": "code",
   "execution_count": 75,
   "metadata": {
    "id": "eu3VInFnZ3vq"
   },
   "outputs": [],
   "source": [
    "def binary_encode(i, num_digits):\n",
    "    return np.array([i >> d & 1 for d in range(num_digits)])\n",
    "def fizz_buzz_encode(i):\n",
    "    if   i % 15 == 0: return np.array([0, 0, 0, 1])\n",
    "    elif i % 5  == 0: return np.array([0, 0, 1, 0])\n",
    "    elif i % 3  == 0: return np.array([0, 1, 0, 0])\n",
    "    else:             return np.array([1, 0, 0, 0])\n",
    "\n",
    "NUM_DIGITS = 10\n",
    "trX = np.array([binary_encode(i, NUM_DIGITS) for i in range(101, 2 ** NUM_DIGITS)])\n",
    "trY = np.array([fizz_buzz_encode(i)          for i in range(101, 2 ** NUM_DIGITS)])\n",
    "\n",
    "NUM_HIDDEN = 100\n",
    "X = tf.placeholder(\"float\", [None, NUM_DIGITS])\n",
    "Y = tf.placeholder(\"float\", [None, 4])\n",
    "\n",
    "def init_weights(shape):\n",
    "    return tf.Variable(tf.random_normal(shape, stddev=0.01))\n",
    "\n",
    "w_h = init_weights([NUM_DIGITS, NUM_HIDDEN])\n",
    "w_o = init_weights([NUM_HIDDEN, 4])\n",
    "\n",
    "def model(X, w_h, w_o):\n",
    "    h = tf.nn.relu(tf.matmul(X, w_h))\n",
    "    return tf.matmul(h, w_o)\n",
    "\n",
    "py_x = model(X, w_h, w_o)\n",
    "\n",
    "cost = tf.reduce_mean(tf.nn.softmax_cross_entropy_with_logits(logits=py_x, labels =Y))\n",
    "train_op = tf.train.GradientDescentOptimizer(0.05).minimize(cost)\n",
    "predict_op = tf.argmax(py_x, 1)\n",
    "\n",
    "def fizz_buzz(i, prediction):\n",
    "    return [str(i), \"fizz\", \"buzz\", \"fizzbuzz\"][prediction]"
   ]
  },
  {
   "cell_type": "markdown",
   "metadata": {
    "id": "J4BDb7NzDFG-"
   },
   "source": [
    "**Preparing test data (teX) & labels (actuals) - for binary representation**"
   ]
  },
  {
   "cell_type": "code",
   "execution_count": 32,
   "metadata": {
    "id": "AZhdeUzSDTxy"
   },
   "outputs": [],
   "source": [
    "numbers = np.arange(1, 101)\n",
    "teX = np.transpose(binary_encode(numbers, NUM_DIGITS))\n",
    "actuals = [fizz_buzz(i, fizz_buzz_encode(i).argmax()) for i in numbers]"
   ]
  },
  {
   "cell_type": "markdown",
   "metadata": {
    "id": "cGffk6jnHnOq"
   },
   "source": [
    "**Next,the model will be trained (numbers 101-1024) & tested (1-100), lastly - the fizzbuzz output will be printed**"
   ]
  },
  {
   "cell_type": "code",
   "execution_count": null,
   "metadata": {
    "id": "ZVboBLqDmlKK"
   },
   "outputs": [],
   "source": [
    "with tf.Session() as sess:\n",
    "    tf.initialize_all_variables().run()\n",
    "    for epoch in range(10000):\n",
    "        p = np.random.permutation(range(len(trX)))\n",
    "        trX, trY = trX[p], trY[p]\n",
    "        BATCH_SIZE = 128\n",
    "        for start in range(0, len(trX), BATCH_SIZE):\n",
    "          end = start + BATCH_SIZE\n",
    "          sess.run(train_op, feed_dict={X: trX[start:end], Y: trY[start:end]})\n",
    "        print(epoch, np.mean(np.argmax(trY, axis=1) ==\n",
    "                              sess.run(predict_op, feed_dict={X: trX, Y: trY})))\n",
    "#   Test the model\n",
    "    teY = sess.run(predict_op, feed_dict={X: teX})\n",
    "    output = np.vectorize(fizz_buzz)(numbers, teY)\n",
    "    print(output)\n"
   ]
  },
  {
   "cell_type": "markdown",
   "metadata": {
    "id": "VOeDABpkm4gF"
   },
   "source": [
    "#### **Post-Processing**"
   ]
  },
  {
   "cell_type": "markdown",
   "metadata": {
    "id": "iTJmQgPBnZYo"
   },
   "source": [
    "**Finding classification errors:**"
   ]
  },
  {
   "cell_type": "code",
   "execution_count": 34,
   "metadata": {
    "colab": {
     "base_uri": "https://localhost:8080/"
    },
    "id": "3zJ0ZxeK7SxX",
    "outputId": "ca9151b5-261d-4ab5-abcc-4a60727a2690"
   },
   "outputs": [
    {
     "name": "stdout",
     "output_type": "stream",
     "text": [
      "21 21 fizz\n",
      "32 fizz 32\n",
      "81 81 fizz\n",
      "93 93 fizz\n",
      "100 100 buzz\n"
     ]
    }
   ],
   "source": [
    "# print the misclassified test predictions and actual test labels\n",
    "# if no value is printed - accuracy should be 1\n",
    "\n",
    "for i, (predicted, actual) in enumerate(zip(output, actuals)):\n",
    "    if predicted != actual:\n",
    "        print(\"{0} {1} {2}\".format(i+1, predicted, actual))"
   ]
  },
  {
   "cell_type": "markdown",
   "metadata": {
    "id": "ZJuLVTERneyc"
   },
   "source": [
    "**Evaluate Accuracy**"
   ]
  },
  {
   "cell_type": "code",
   "execution_count": 35,
   "metadata": {
    "colab": {
     "base_uri": "https://localhost:8080/"
    },
    "id": "vcDJwzwWnnoF",
    "outputId": "90a36850-253d-4b30-c5cc-ce752658a7e4"
   },
   "outputs": [
    {
     "name": "stdout",
     "output_type": "stream",
     "text": [
      "0.95\n"
     ]
    }
   ],
   "source": [
    "print(accuracy_score(actuals, output))"
   ]
  },
  {
   "cell_type": "markdown",
   "metadata": {
    "id": "h7jQAIOR9EZE"
   },
   "source": [
    "**Confusion Matrix**"
   ]
  },
  {
   "cell_type": "code",
   "execution_count": 36,
   "metadata": {
    "colab": {
     "base_uri": "https://localhost:8080/"
    },
    "id": "hKuNxztf4i85",
    "outputId": "37d0989b-4fc3-466c-9927-4159b8d46100"
   },
   "outputs": [
    {
     "name": "stdout",
     "output_type": "stream",
     "text": [
      "[[52  1  0  0]\n",
      " [ 3 24  0  0]\n",
      " [ 1  0 13  0]\n",
      " [ 0  0  0  6]]\n"
     ]
    }
   ],
   "source": [
    "# translating numbers 1 to 101 to the numeric target classes [1 - int,2 - fizz,3 - buzz,4 - fizzbuzz]\n",
    "labels= np.array([fizz_buzz_encode(number).argmax() for number in numbers])\n",
    "\n",
    "with tf.Session() as sess:\n",
    "  confusion = tf.confusion_matrix(labels=labels, predictions=teY, num_classes=4)\n",
    "  print(confusion.eval(session=sess))"
   ]
  },
  {
   "cell_type": "markdown",
   "metadata": {
    "id": "BM8nS-Muo6G1"
   },
   "source": [
    "# **Question 4:**"
   ]
  },
  {
   "cell_type": "markdown",
   "metadata": {
    "id": "94gd7g8nqWtj"
   },
   "source": [
    "**Executing the algorithm 10 times**"
   ]
  },
  {
   "cell_type": "code",
   "execution_count": 37,
   "metadata": {
    "id": "L_wl-6sSepU1"
   },
   "outputs": [],
   "source": [
    "accuracy_arr = []\n",
    "with tf.Session() as sess:\n",
    "    for i in range(10):\n",
    "      tf.initialize_all_variables().run()\n",
    "      for epoch in range(10000):\n",
    "          p = np.random.permutation(range(len(trX)))\n",
    "          trX, trY = trX[p], trY[p]\n",
    "          BATCH_SIZE = 128\n",
    "          for start in range(0, len(trX), BATCH_SIZE):\n",
    "            end = start + BATCH_SIZE\n",
    "            sess.run(train_op, feed_dict={X: trX[start:end], Y: trY[start:end]})\n",
    "  #   Test the model\n",
    "      teY = sess.run(predict_op, feed_dict={X: teX})\n",
    "      output = np.vectorize(fizz_buzz)(numbers, teY)\n",
    "      accuracy_arr.append(accuracy_score(actuals, output))"
   ]
  },
  {
   "cell_type": "markdown",
   "metadata": {
    "id": "areHVU5Qx0TU"
   },
   "source": [
    "**Displaying Accuracy values of 10 iterations**"
   ]
  },
  {
   "cell_type": "code",
   "execution_count": 38,
   "metadata": {
    "colab": {
     "base_uri": "https://localhost:8080/",
     "height": 295
    },
    "id": "kKFZIJQGrOV0",
    "outputId": "53288f93-6f59-41db-8887-f15b989a79d4"
   },
   "outputs": [
    {
     "data": {
      "image/png": "[encoded data removed]",
      "text/plain": [
       "<Figure size 432x288 with 1 Axes>"
      ]
     },
     "metadata": {
      "needs_background": "light"
     },
     "output_type": "display_data"
    }
   ],
   "source": [
    "iterations = np.arange(1, 11)\n",
    "fig, ax = plt.subplots()\n",
    "ax.plot(iterations, accuracy_arr)\n",
    "for a,b in zip(iterations, accuracy_arr): \n",
    "    plt.text(a, b, str(b))\n",
    "ax.set(xlabel='Iteration #', ylabel='Accuracy',\n",
    "       title='Accuracy values of 10 iterations')\n",
    "ax.grid()\n",
    "plt.show()"
   ]
  },
  {
   "cell_type": "markdown",
   "metadata": {
    "id": "Pt-Z9FVLyL1e"
   },
   "source": [
    "# **Question 5:**"
   ]
  },
  {
   "cell_type": "markdown",
   "metadata": {
    "id": "v242dzzd5eSr"
   },
   "source": [
    "**Each number is encoded in array of size 100 where index will indicate the prime factor and the value will indicate the multiplicity.\n",
    "All factors largers than 100 will be assigned to the last bucket of the encoding array**"
   ]
  },
  {
   "cell_type": "markdown",
   "metadata": {
    "id": "7SkdUK58uKbn"
   },
   "source": [
    "**Defining primes encoding function**"
   ]
  },
  {
   "cell_type": "code",
   "execution_count": 135,
   "metadata": {
    "id": "-gx5U5ZB65pn"
   },
   "outputs": [],
   "source": [
    "TRAINING_SIZE = 1024\n",
    "ENCODING_SIZE = 100\n",
    "\n",
    "def prime_encode(i):\n",
    "    encoded_array  = np.zeros(ENCODING_SIZE)\n",
    "    factors_dict=sp.factorint(i) \n",
    "    factors = list(factors_dict.keys())\n",
    "    multiplicities = list(factors_dict.values())\n",
    "    for j in range(len(factors)):\n",
    "      if factors[j] > ENCODING_SIZE:\n",
    "        encoded_array[len(encoded_array)-1] = multiplicities[j]\n",
    "      else:  \n",
    "        encoded_array[factors[j]] = multiplicities[j]\n",
    "    return encoded_array"
   ]
  },
  {
   "cell_type": "markdown",
   "metadata": {
    "id": "mFwfKPeuEvcD"
   },
   "source": [
    "**Preparing primes test data**"
   ]
  },
  {
   "cell_type": "code",
   "execution_count": 136,
   "metadata": {
    "id": "ZnAtmF_jEuER"
   },
   "outputs": [],
   "source": [
    "# primes test set\n",
    "teX = [prime_encode(num) for num in numbers]\n",
    "teX = np.array(teX)"
   ]
  },
  {
   "cell_type": "markdown",
   "metadata": {
    "id": "ADJ4tgmxNI5c"
   },
   "source": [
    "**Updating input & weights vectors according to the input representation (size 100)**"
   ]
  },
  {
   "cell_type": "code",
   "execution_count": 137,
   "metadata": {
    "id": "JrHPY95uNIB5"
   },
   "outputs": [],
   "source": [
    "#setting training set\n",
    "trX = np.array([prime_encode(i) for i in range(101, TRAINING_SIZE)])\n",
    "trY = np.array([fizz_buzz_encode(i) for i in range(101, TRAINING_SIZE)])\n",
    "\n",
    "# placeholder update according to new input encoding\n",
    "X = tf.placeholder(\"float\", [None, ENCODING_SIZE])\n",
    "Y = tf.placeholder(\"float\", [None, 4])\n",
    "\n",
    "# weights definition update\n",
    "w_h_1 = init_weights([ENCODING_SIZE, NUM_HIDDEN])\n",
    "w_o_1 = init_weights([NUM_HIDDEN, 4])\n",
    "\n",
    "# model Update with new input & weights\n",
    "py_x = model(X, w_h_1, w_o_1)\n",
    "cost = tf.reduce_mean(tf.nn.softmax_cross_entropy_with_logits(logits=py_x, labels =Y))\n",
    "train_op = tf.train.GradientDescentOptimizer(0.05).minimize(cost)\n",
    "predict_op = tf.argmax(py_x, 1)"
   ]
  },
  {
   "cell_type": "markdown",
   "metadata": {
    "id": "IHVKO_hJA1F_"
   },
   "source": [
    "**Training and testing the model (output printed)**\n",
    "\n"
   ]
  },
  {
   "cell_type": "code",
   "execution_count": null,
   "metadata": {
    "id": "TtpVn0tvTsPq"
   },
   "outputs": [],
   "source": [
    "with tf.Session() as sess:\n",
    "    tf.initialize_all_variables().run()\n",
    "    for epoch in range(10000):\n",
    "        p = np.random.permutation(range(len(trX)))\n",
    "        trX, trY = trX[p], trY[p]\n",
    "        BATCH_SIZE = 128\n",
    "        for start in range(0, len(trX), BATCH_SIZE):\n",
    "          end = start + BATCH_SIZE\n",
    "          sess.run(train_op, feed_dict={X: trX[start:end], Y: trY[start:end]})\n",
    "        print(epoch, np.mean(np.argmax(trY, axis=1) ==\n",
    "                              sess.run(predict_op, feed_dict={X: trX, Y: trY})))\n",
    "#   Test the model\n",
    "    teY = sess.run(predict_op, feed_dict={X: teX})\n",
    "    output = np.vectorize(fizz_buzz)(numbers, teY)\n",
    "    print(output)"
   ]
  },
  {
   "cell_type": "code",
   "execution_count": 139,
   "metadata": {
    "id": "LScK_TI4Ew_-"
   },
   "outputs": [],
   "source": [
    "# print the misclassified test predictions and actual test labels\n",
    "# if no value is printed - accuracy should be 1\n",
    "for i, (predicted, actual) in enumerate(zip(output, actuals)):\n",
    "    if predicted != actual:\n",
    "        print(\"{0} {1} {2}\".format(i+1, predicted, actual))"
   ]
  },
  {
   "cell_type": "markdown",
   "metadata": {
    "id": "Izs5F85PvLj3"
   },
   "source": [
    "**Reporting Accuracy**"
   ]
  },
  {
   "cell_type": "code",
   "execution_count": 140,
   "metadata": {
    "colab": {
     "base_uri": "https://localhost:8080/"
    },
    "id": "FsS-ghClvikr",
    "outputId": "daa8ce21-6615-4b29-d64b-863bbc84b2b8"
   },
   "outputs": [
    {
     "name": "stdout",
     "output_type": "stream",
     "text": [
      "1.0\n"
     ]
    }
   ],
   "source": [
    "print(accuracy_score(actuals, output))"
   ]
  },
  {
   "cell_type": "markdown",
   "metadata": {
    "id": "2kpTDVm6cV97"
   },
   "source": [
    "**Executing the Prime-based algorithm 10 times:**"
   ]
  },
  {
   "cell_type": "code",
   "execution_count": 141,
   "metadata": {
    "id": "ZAnEpCanmiIM"
   },
   "outputs": [],
   "source": [
    "accuracy_arr = []\n",
    "with tf.Session() as sess:\n",
    "    for i in range(10):\n",
    "      tf.initialize_all_variables().run()\n",
    "      for epoch in range(10000):\n",
    "          p = np.random.permutation(range(len(trX)))\n",
    "          trX, trY = trX[p], trY[p]\n",
    "          BATCH_SIZE = 128\n",
    "          for start in range(0, len(trX), BATCH_SIZE):\n",
    "            end = start + BATCH_SIZE\n",
    "            sess.run(train_op, feed_dict={X: trX[start:end], Y: trY[start:end]})\n",
    "  #   Test the model\n",
    "      teY = sess.run(predict_op, feed_dict={X: teX})\n",
    "      output = np.vectorize(fizz_buzz)(numbers, teY)\n",
    "      accuracy_arr.append(accuracy_score(actuals, output))"
   ]
  },
  {
   "cell_type": "markdown",
   "metadata": {
    "id": "lXKASGw4vVna"
   },
   "source": [
    "**Displaying results in a chart**"
   ]
  },
  {
   "cell_type": "code",
   "execution_count": 142,
   "metadata": {
    "colab": {
     "base_uri": "https://localhost:8080/",
     "height": 295
    },
    "id": "seJNV6BOc2Mq",
    "outputId": "51f4a506-0c5a-408d-9587-7b7481ee0130"
   },
   "outputs": [
    {
     "data": {
      "image/png": "[encoded data removed]",
      "text/plain": [
       "<Figure size 432x288 with 1 Axes>"
      ]
     },
     "metadata": {
      "needs_background": "light"
     },
     "output_type": "display_data"
    }
   ],
   "source": [
    "iterations = np.arange(1, 11)\n",
    "fig, ax = plt.subplots()\n",
    "ax.plot(iterations, accuracy_arr)\n",
    "for a,b in zip(iterations, accuracy_arr): \n",
    "    plt.text(a, b, str(b))\n",
    "ax.set(xlabel='Iteration #', ylabel='Accuracy',\n",
    "       title='Accuracy values of 10 iterations')\n",
    "ax.grid()\n",
    "plt.show()"
   ]
  },
  {
   "cell_type": "markdown",
   "metadata": {
    "id": "xfAM5tzFfE-F"
   },
   "source": [
    "**Conclusion: The Prime-based algorithm outperforms the binary-based**"
   ]
  },
  {
   "cell_type": "markdown",
   "metadata": {
    "id": "luCBNhC_fg3I"
   },
   "source": [
    "# **Question 6:**"
   ]
  },
  {
   "cell_type": "markdown",
   "metadata": {
    "id": "FNOm8XLhfn3C"
   },
   "source": [
    "**Finding smallest network that yields perfect results - \n",
    "after trial and error, we show that a hidden layer of size 9 is sufficient for a perfect result**"
   ]
  },
  {
   "cell_type": "markdown",
   "metadata": {
    "id": "SZETQx9lgzNz"
   },
   "source": [
    "**Adjusting hidden layer size to 9 and weights accordingly:**"
   ]
  },
  {
   "cell_type": "code",
   "execution_count": 144,
   "metadata": {
    "id": "p8VR3_uyhE5k"
   },
   "outputs": [],
   "source": [
    "NUM_HIDDEN = 9\n",
    "#updating weights vectors\n",
    "w_h_Q6 = init_weights([ENCODING_SIZE, NUM_HIDDEN])\n",
    "w_o_Q6 = init_weights([NUM_HIDDEN, 4])\n",
    "\n",
    "# model Update with new weights\n",
    "py_x = model(X, w_h_Q6, w_o_Q6)"
   ]
  },
  {
   "cell_type": "markdown",
   "metadata": {
    "id": "0cjyFVjjCWNP"
   },
   "source": [
    "**Executing the model 10 times to verify accuracy stability**"
   ]
  },
  {
   "cell_type": "code",
   "execution_count": 146,
   "metadata": {
    "id": "Hb_bjEvpfC9T"
   },
   "outputs": [],
   "source": [
    "accuracy_arr = []\n",
    "with tf.Session() as sess:\n",
    "    for i in range(10):\n",
    "      tf.initialize_all_variables().run()\n",
    "      for epoch in range(10000):\n",
    "          p = np.random.permutation(range(len(trX)))\n",
    "          trX, trY = trX[p], trY[p]\n",
    "          BATCH_SIZE = 128\n",
    "          for start in range(0, len(trX), BATCH_SIZE):\n",
    "            end = start + BATCH_SIZE\n",
    "            sess.run(train_op, feed_dict={X: trX[start:end], Y: trY[start:end]})\n",
    "  #   Test the model\n",
    "      teY = sess.run(predict_op, feed_dict={X: teX})\n",
    "      output = np.vectorize(fizz_buzz)(numbers, teY)\n",
    "      accuracy_arr.append(accuracy_score(actuals, output))"
   ]
  },
  {
   "cell_type": "markdown",
   "metadata": {
    "id": "voBVc8JTvu2A"
   },
   "source": [
    "**Displaying results in a chart**"
   ]
  },
  {
   "cell_type": "code",
   "execution_count": 147,
   "metadata": {
    "colab": {
     "base_uri": "https://localhost:8080/",
     "height": 295
    },
    "id": "iOlHnmdVf7iH",
    "outputId": "23841218-0ceb-46ac-9545-259c2ee118a3"
   },
   "outputs": [
    {
     "data": {
      "image/png": "[encoded data removed]",
      "text/plain": [
       "<Figure size 432x288 with 1 Axes>"
      ]
     },
     "metadata": {
      "needs_background": "light"
     },
     "output_type": "display_data"
    }
   ],
   "source": [
    "iterations = np.arange(1, 11)\n",
    "fig, ax = plt.subplots()\n",
    "ax.plot(iterations, accuracy_arr)\n",
    "for a,b in zip(iterations, accuracy_arr): \n",
    "    plt.text(a, b, str(b))\n",
    "ax.set(xlabel='Iteration #', ylabel='Accuracy',\n",
    "       title='Accuracy values of 10 iterations')\n",
    "ax.grid()\n",
    "plt.show()"
   ]
  },
  {
   "cell_type": "markdown",
   "metadata": {
    "id": "xt5T5FiAoHsG"
   },
   "source": [
    "# **Question 7:**"
   ]
  },
  {
   "cell_type": "markdown",
   "metadata": {
    "id": "tWBTJ1u1AZBs"
   },
   "source": [
    "**Defining classfication function from prime representation input to fizzbuz**"
   ]
  },
  {
   "cell_type": "code",
   "execution_count": 148,
   "metadata": {
    "id": "iFhg5xsXpGlW"
   },
   "outputs": [],
   "source": [
    "def convert_prime_arr_to_strInt(encoded_arr):\n",
    "  result = 1\n",
    "  for i in range(len(encoded_arr)):\n",
    "    if encoded_arr[i] != 0:\n",
    "      result = result * i**encoded_arr[i]\n",
    "  return(str(int(result)))\n",
    "\n",
    "def fizzbuzz_primes_classify(encoded_arr):\n",
    "  if np.array_equal(encoded_arr,np.zeros(ENCODING_SIZE)):\n",
    "    return 1\n",
    "  for i in range(1,len(encoded_arr)):\n",
    "    if encoded_arr[3] != 0 and encoded_arr[5] != 0:\n",
    "      return (\"fizzbuzz\")\n",
    "    elif encoded_arr[5] != 0:\n",
    "      return (\"buzz\")\n",
    "    elif encoded_arr[3] != 0:\n",
    "      return(\"fizz\")\n",
    "    else:\n",
    "      return(convert_prime_arr_to_strInt(encoded_arr))\n"
   ]
  },
  {
   "cell_type": "markdown",
   "metadata": {
    "id": "ffYJ3j9M_1Wq"
   },
   "source": [
    "**Classifier accuracy:**"
   ]
  },
  {
   "cell_type": "code",
   "execution_count": 149,
   "metadata": {
    "colab": {
     "base_uri": "https://localhost:8080/"
    },
    "id": "gtG-ctaL_ng8",
    "outputId": "dcc76241-1b37-443a-c478-1864ae1ff55f"
   },
   "outputs": [
    {
     "data": {
      "text/plain": [
       "1.0"
      ]
     },
     "execution_count": 149,
     "metadata": {},
     "output_type": "execute_result"
    }
   ],
   "source": [
    "output_q7 = np.array([fizzbuzz_primes_classify(elm) for elm in teX] )\n",
    "accuracy_score(actuals, output_q7)"
   ]
  },
  {
   "cell_type": "markdown",
   "metadata": {
    "id": "SF2_NJ3GBYiU"
   },
   "source": [
    "**Classfication results from 1 to 100:**"
   ]
  },
  {
   "cell_type": "code",
   "execution_count": 150,
   "metadata": {
    "colab": {
     "base_uri": "https://localhost:8080/"
    },
    "id": "LqHlCH1nBC06",
    "outputId": "8253939c-070d-45f1-c9dc-80c1c3a46e0d"
   },
   "outputs": [
    {
     "data": {
      "text/plain": [
       "array(['1', '2', 'fizz', '4', 'buzz', 'fizz', '7', '8', 'fizz', 'buzz',\n",
       "       '11', 'fizz', '13', '14', 'fizzbuzz', '16', '17', 'fizz', '19',\n",
       "       'buzz', 'fizz', '22', '23', 'fizz', 'buzz', '26', 'fizz', '28',\n",
       "       '29', 'fizzbuzz', '31', '32', 'fizz', '34', 'buzz', 'fizz', '37',\n",
       "       '38', 'fizz', 'buzz', '41', 'fizz', '43', '44', 'fizzbuzz', '46',\n",
       "       '47', 'fizz', '49', 'buzz', 'fizz', '52', '53', 'fizz', 'buzz',\n",
       "       '56', 'fizz', '58', '59', 'fizzbuzz', '61', '62', 'fizz', '64',\n",
       "       'buzz', 'fizz', '67', '68', 'fizz', 'buzz', '71', 'fizz', '73',\n",
       "       '74', 'fizzbuzz', '76', '77', 'fizz', '79', 'buzz', 'fizz', '82',\n",
       "       '83', 'fizz', 'buzz', '86', 'fizz', '88', '89', 'fizzbuzz', '91',\n",
       "       '92', 'fizz', '94', 'buzz', 'fizz', '97', '98', 'fizz', 'buzz'],\n",
       "      dtype='<U21')"
      ]
     },
     "execution_count": 150,
     "metadata": {},
     "output_type": "execute_result"
    }
   ],
   "source": [
    "output_q7"
   ]
  },
  {
   "cell_type": "markdown",
   "metadata": {
    "id": "S6qV5eDoK_0j"
   },
   "source": [
    "# **Question 8:**\n"
   ]
  },
  {
   "cell_type": "markdown",
   "metadata": {
    "id": "9ocD6wkzRzHl"
   },
   "source": [
    "**Creating weights vectors which will yield a perfect score :<br>**\n",
    "(we will set the weights in such way that matrices multiplication will zero all values except values<br> that correspond to the 3 & 5 prime factors in the input vector)"
   ]
  },
  {
   "cell_type": "code",
   "execution_count": 151,
   "metadata": {
    "id": "32U4xjFuFzjD"
   },
   "outputs": [],
   "source": [
    "w_h_Q8 = np.full((ENCODING_SIZE,9),0,dtype = np.float32)\n",
    "w_o_Q8 = np.full((9,4),0,dtype = np.float32)\n",
    "\n",
    "class_none  = 0\n",
    "class_fizz = 1\n",
    "class_buzz = 2\n",
    "class_fizzbuzz = 3\n",
    "\n",
    "w_h_Q8[3,0] = 1\n",
    "w_h_Q8[5,1] = 1\n",
    "w_h_Q8[:,2] = 1\n",
    "\n",
    "w_o_Q8[2,class_none] = 0.0001\n",
    "w_o_Q8[0,class_fizz] = 1\n",
    "w_o_Q8[1,class_buzz] = 1\n",
    "w_o_Q8[0,class_fizzbuzz] = 0.999\n",
    "w_o_Q8[1,class_fizzbuzz] = 0.999\n",
    "\n"
   ]
  },
  {
   "cell_type": "markdown",
   "metadata": {
    "id": "jrpBdeHiYBwy"
   },
   "source": [
    "**Executing the model with the hardcoded weights:**"
   ]
  },
  {
   "cell_type": "code",
   "execution_count": 153,
   "metadata": {
    "id": "n4ut97x4LGkT"
   },
   "outputs": [],
   "source": [
    "with tf.Session() as sess:\n",
    "  py_x = model(X, w_h_Q8, w_o_Q8)\n",
    "  predict_op2 = tf.argmax(py_x, 1)\n",
    "  \n",
    "  teY = sess.run(predict_op2, feed_dict={X: teX})\n",
    "  output = np.vectorize(fizz_buzz)(numbers, teY)"
   ]
  },
  {
   "cell_type": "markdown",
   "metadata": {
    "id": "Uk_35yJaR9cE"
   },
   "source": [
    "**Reporting the Accuracy:**"
   ]
  },
  {
   "cell_type": "code",
   "execution_count": 154,
   "metadata": {
    "colab": {
     "base_uri": "https://localhost:8080/"
    },
    "id": "o3s9vTGhUrGW",
    "outputId": "080ddd3b-143e-4657-ecfb-629505536c50"
   },
   "outputs": [
    {
     "data": {
      "text/plain": [
       "1.0"
      ]
     },
     "execution_count": 154,
     "metadata": {},
     "output_type": "execute_result"
    }
   ],
   "source": [
    "for i, (predicted, actual) in enumerate(zip(output, actuals)):\n",
    "    if predicted != actual:\n",
    "        print(\"{0} {1} {2}\".format(i+1, predicted, actual))\n",
    "accuracy_score(actuals, output)"
   ]
  },
  {
   "cell_type": "markdown",
   "metadata": {
    "id": "GTvkmgR6SHBF"
   },
   "source": [
    "# **Question 9:**"
   ]
  },
  {
   "cell_type": "code",
   "execution_count": 156,
   "metadata": {
    "id": "qXX_ghERxc4H"
   },
   "outputs": [],
   "source": [
    "class Neuron:\n",
    "\n",
    "  def __init__(self, quantity=10, std_dev=0.1):\n",
    "    self.qt = quantity\n",
    "    self.w = np.random.normal(0,std_dev,(1,self.qt))\n",
    "    self.b = np.random.normal(0,0.1,1) #init random\n",
    "    self.output = 0\n",
    "    self.innet = 0\n",
    "    \n",
    "  def sigmoid(self, x):\n",
    "    return 1 / (1 + math.exp(-x))\n",
    "\n",
    "  def sigmoid_derivative(self, x):\n",
    "    return (self.sigmoid(x)*(1-self.sigmoid(x)))\n",
    "  \n",
    "  def forward(self, input):\n",
    "    input = np.reshape(input,(len(input),1))\n",
    "    self.innet = input\n",
    "    self.output = self.sigmoid(np.dot(self.w, input))\n",
    "    return self.output\n",
    "\n",
    "  def backward(self, error):\n",
    "    dw = np.dot(self.innet, error * self.sigmoid_derivative(self.output))\n",
    "    dx = np.dot(self.w.T, error * self.sigmoid_derivative(self.output))\n",
    "    db = error * self.sigmoid_derivative(self.output)\n",
    "    return (db, dw, dx)\n",
    "\n",
    "  def ModifyWb(self, mdf_dw, mdf_db):\n",
    "    mdf_dw_T = mdf_dw.T\n",
    "    self.w = self.w + mdf_dw_T\n",
    "    self.b = self.b + mdf_db"
   ]
  },
  {
   "cell_type": "code",
   "execution_count": 157,
   "metadata": {
    "colab": {
     "base_uri": "https://localhost:8080/"
    },
    "id": "snofYLcQ0MYo",
    "outputId": "d995b174-e4a4-4e92-92ab-c030d8f62003"
   },
   "outputs": [
    {
     "name": "stdout",
     "output_type": "stream",
     "text": [
      "first printout\n",
      "\n",
      "res = 0.4956990930510003\n",
      "db = 0.07057510981182813\n",
      "dw =\n",
      " [[ 0.008585  ]\n",
      " [ 0.01017661]\n",
      " [-0.00870203]\n",
      " [ 0.0035293 ]\n",
      " [-0.00360819]\n",
      " [-0.00350787]\n",
      " [ 0.00693253]\n",
      " [-0.00094887]\n",
      " [-0.0070628 ]\n",
      " [ 0.01061256]]\n",
      "dx =\n",
      " [[ 0.0036186 ]\n",
      " [-0.00521048]\n",
      " [ 0.01233812]\n",
      " [-0.0091139 ]\n",
      " [-0.0083911 ]\n",
      " [ 0.00060514]\n",
      " [ 0.00022298]\n",
      " [ 0.0012219 ]\n",
      " [-0.00301857]\n",
      " [ 0.00244437]]\n",
      "\n",
      "second printout\n",
      "\n",
      "res = 0.481294875571229\n",
      "db = 0.07081900467432133\n",
      "dw =\n",
      " [[0.070819]\n",
      " [0.070819]\n",
      " [0.070819]\n",
      " [0.070819]\n",
      " [0.070819]\n",
      " [0.070819]\n",
      " [0.070819]\n",
      " [0.070819]\n",
      " [0.070819]\n",
      " [0.070819]]\n",
      "dx =\n",
      " [[ 0.00363111]\n",
      " [-0.00522848]\n",
      " [ 0.01238076]\n",
      " [-0.0091454 ]\n",
      " [-0.0084201 ]\n",
      " [ 0.00060723]\n",
      " [ 0.00022375]\n",
      " [ 0.00122612]\n",
      " [-0.003029  ]\n",
      " [ 0.00245282]]\n"
     ]
    }
   ],
   "source": [
    "n = Neuron(10,0.1)\n",
    "x = np.random.normal(0,0.1,10)  \n",
    "res = n.forward(x)\n",
    "db,dw,dx = n.backward(0.3) \n",
    "\n",
    "print(\"first printout\\n\")\n",
    "########################\n",
    "print(\"res =\",res)\n",
    "print(\"db =\",db)\n",
    "print(\"dw =\\n\",dw)\n",
    "print(\"dx =\\n\",dx)\n",
    "\n",
    "x = np.ones(10)\n",
    "eta = 1.0e-6\n",
    "n.ModifyWb(-eta*dw,-eta*db) \n",
    "res = n.forward(x)\n",
    "db,dw,dx = n.backward(0.3)\n",
    "\n",
    "print(\"\\nsecond printout\\n\")\n",
    "########################\n",
    "print(\"res =\",res)\n",
    "print(\"db =\",db)\n",
    "print(\"dw =\\n\",dw)\n",
    "print(\"dx =\\n\",dx)"
   ]
  }
 ],
 "metadata": {
  "colab": {
   "collapsed_sections": [],
   "name": " DL_ex1.ipynb",
   "provenance": []
  },
  "kernelspec": {
   "display_name": "Python 3",
   "language": "python",
   "name": "python3"
  },
  "language_info": {
   "codemirror_mode": {
    "name": "ipython",
    "version": 3
   },
   "file_extension": ".py",
   "mimetype": "text/x-python",
   "name": "python",
   "nbconvert_exporter": "python",
   "pygments_lexer": "ipython3",
   "version": "3.8.5"
  }
 },
 "nbformat": 4,
 "nbformat_minor": 1
}
